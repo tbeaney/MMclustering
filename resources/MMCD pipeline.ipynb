{
 "cells": [
  {
   "cell_type": "markdown",
   "id": "2a3b86e8",
   "metadata": {},
   "source": [
    "### Import packages\n",
    "\n",
    "Runs in python version 3.8.10"
   ]
  },
  {
   "cell_type": "code",
   "execution_count": null,
   "id": "501235d6",
   "metadata": {},
   "outputs": [],
   "source": [
    "import pandas as pd\n",
    "import numpy as np\n",
    "import numpy.matlib\n",
    "import pygenstability\n",
    "from pygenstability import run, plotting\n",
    "from sklearn.metrics.pairwise import cosine_similarity\n",
    "import matplotlib.pyplot as plt\n",
    "import pickle\n",
    "import seaborn as sns\n",
    "\n",
    "from scipy.sparse import csr_matrix\n",
    "from scipy.sparse.csgraph import minimum_spanning_tree\n",
    "\n",
    "from scipy.spatial.distance import cdist\n",
    "from sklearn.neighbors import NearestNeighbors\n",
    "\n",
    "# read in the two embedding files\n",
    "sgm = pd.read_csv('SGM.csv', index_col='Condition')\n",
    "mca = pd.read_csv('MCA.csv', index_col='Condition')"
   ]
  },
  {
   "cell_type": "markdown",
   "id": "56ae4058",
   "metadata": {},
   "source": [
    "### Define ckNN function"
   ]
  },
  {
   "cell_type": "code",
   "execution_count": null,
   "id": "d4ca4e36",
   "metadata": {},
   "outputs": [],
   "source": [
    "def ckNNGraph(D, k):\n",
    "    n = D.shape[0]\n",
    "    np.fill_diagonal(D, 0)\n",
    "    delta = 1\n",
    "    dk = np.zeros(n)\n",
    "\n",
    "    for i in range(n):\n",
    "        tmp = np.sort(D[i,:]) \n",
    "        dk[i] = tmp[k]\n",
    "\n",
    "    Dk = np.outer(dk, dk.conj().transpose())\n",
    "\n",
    "    E = D**2 < delta**2 * Dk\n",
    "\n",
    "    np.fill_diagonal(E, 0)\n",
    "    Emst = minimum_spanning_tree(D).toarray()\n",
    "    Emst = np.sign(Emst)\n",
    "    Emst = np.maximum(Emst, Emst.transpose())\n",
    "    E = np.maximum(E, Emst)\n",
    "\n",
    "    return E"
   ]
  },
  {
   "cell_type": "markdown",
   "id": "668fc318",
   "metadata": {},
   "source": [
    "### Select which embedding to use\n",
    "Options: Multiple Correspondence Analysis (mca) or Skipgram with multiple codes (sgm)"
   ]
  },
  {
   "cell_type": "code",
   "execution_count": null,
   "id": "887cf2c6",
   "metadata": {},
   "outputs": [],
   "source": [
    "embedding = sgm"
   ]
  },
  {
   "cell_type": "code",
   "execution_count": null,
   "id": "84effdf7",
   "metadata": {},
   "outputs": [],
   "source": [
    "# Determine cosine similarity\n",
    "cosine = pd.DataFrame(cosine_similarity(embedding), index = embedding.index, columns = embedding.index)\n",
    "cosine = cosine.to_numpy()"
   ]
  },
  {
   "cell_type": "markdown",
   "id": "02891034",
   "metadata": {},
   "source": [
    "### Normalise and sparsen using MST-CkNN\n"
   ]
  },
  {
   "cell_type": "code",
   "execution_count": null,
   "id": "a53ce45f",
   "metadata": {},
   "outputs": [],
   "source": [
    "# Set knn value (we tested here values of 5, 10, 15 and 20)\n",
    "knn = 10"
   ]
  },
  {
   "cell_type": "code",
   "execution_count": null,
   "id": "8ad49c1d",
   "metadata": {},
   "outputs": [],
   "source": [
    "# convert to array and calculate cosine distance\n",
    "dist = 1-cosine\n",
    "\n",
    "# apply max normalisation to distance matrix\n",
    "dist_norm = dist / np.amax(dist)\n",
    "\n",
    "# calculate normalised similarity matrix (1 minus distance matrix in range [0,1])\n",
    "cos_norm = 1-dist_norm\n",
    "\n",
    "# apply cKNN\n",
    "mstknn = ckNNGraph(dist_norm, knn)\n",
    "\n",
    "# hadamard multiplication with normalised similarity matrix\n",
    "matA = np.multiply(mstknn, cos_norm)"
   ]
  },
  {
   "cell_type": "markdown",
   "id": "4aa96564",
   "metadata": {},
   "source": [
    "### Run Markov Multiscale Community Detection\n",
    "\n",
    "For details of the implementation, and hyperparameter settings, see:\n",
    "https://github.com/barahona-research-group/PyGenStability"
   ]
  },
  {
   "cell_type": "code",
   "execution_count": null,
   "id": "793ce495",
   "metadata": {},
   "outputs": [],
   "source": [
    "resultsA = run(matA,\n",
    "                  constructor = 'linearized', # default = linearized\n",
    "                  min_scale=-1.0, # default = -2.0\n",
    "                  max_scale=0.5, # default = 0.5\n",
    "                  n_scale=40, # default = 20\n",
    "                  n_NVI=40, # default = 20\n",
    "                  n_tries=200, # default = 100\n",
    "                  method = \"leiden\",\n",
    "                  with_optimal_scales=False,\n",
    "                  with_postprocessing=True,\n",
    "                  result_file='MCD_results_cknn'+str(knn)+'.pkl',\n",
    "                  n_workers=4, # default = 4\n",
    "             )"
   ]
  },
  {
   "cell_type": "markdown",
   "id": "3556a450",
   "metadata": {},
   "source": [
    "### Identify optimal scales"
   ]
  },
  {
   "cell_type": "code",
   "execution_count": null,
   "id": "d221d6cd",
   "metadata": {},
   "outputs": [],
   "source": [
    "from pygenstability.optimal_scales import identify_optimal_scales\n",
    "results  = identify_optimal_scales(resultsA,\n",
    "                                                  kernel_size=5, # default = 3\n",
    "                                                  window_size=6, # default = 5\n",
    "                                                  max_nvi=1, # default = 1\n",
    "                                                  basin_radius=1 # default = 1\n",
    "                                                 )\n",
    "\n",
    "# print number of partitions\n",
    "for x in results[\"selected_partitions\"]:\n",
    "    print(len(np.unique(results['community_id'][x])))"
   ]
  },
  {
   "cell_type": "code",
   "execution_count": null,
   "id": "14e2f73c",
   "metadata": {},
   "outputs": [],
   "source": [
    "#This returns an interactive and pdf plot of the output\n",
    "plotting.plot_scan(results, use_plotly=True, live=False)\n",
    "\n",
    "# plot results\n",
    "plt.figure(figsize=(7, 6))\n",
    "axes = plotting.plot_scan(results, figure_name=None)\n",
    "axes[4].set(yticklabels=[0,0.05,0.10])\n",
    "\n",
    "plt.savefig('PLOT_MCD_KNN_'+str(knn)+'.pdf')\n",
    "plt.show()\n",
    "\n",
    "# save out results as pickled list\n",
    "with open('MCD_results_optimal_cknn'+str(knn)+'.pkl', \"wb\") as fp:\n",
    "    pickle.dump(results, fp)"
   ]
  },
  {
   "cell_type": "code",
   "execution_count": null,
   "id": "2a4e4c5a",
   "metadata": {},
   "outputs": [],
   "source": []
  }
 ],
 "metadata": {
  "kernelspec": {
   "display_name": "venv308",
   "language": "python",
   "name": "venv308"
  },
  "language_info": {
   "codemirror_mode": {
    "name": "ipython",
    "version": 3
   },
   "file_extension": ".py",
   "mimetype": "text/x-python",
   "name": "python",
   "nbconvert_exporter": "python",
   "pygments_lexer": "ipython3",
   "version": "3.8.10"
  }
 },
 "nbformat": 4,
 "nbformat_minor": 5
}
